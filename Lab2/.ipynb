{
  "nbformat": 4,
  "nbformat_minor": 0,
  "metadata": {
    "colab": {
      "provenance": []
    },
    "kernelspec": {
      "name": "python3",
      "display_name": "Python 3"
    },
    "language_info": {
      "name": "python"
    }
  },
  "cells": [
    {
      "cell_type": "code",
      "execution_count": 45,
      "metadata": {
        "id": "yFPGqj9e-cFr"
      },
      "outputs": [],
      "source": [
        "import numpy as np\n",
        "from sklearn.datasets import load_iris\n",
        "\n",
        "#Loading Data--------------------------------------------------------------------------------->\n",
        "iris = load_iris()\n",
        "X = iris.data\n",
        "y = iris.target\n",
        "\n",
        "# Shuffling----------------------------------------------------------------------------------->\n",
        "data = np.column_stack((X, y))\n",
        "np.random.shuffle(data)\n"
      ]
    },
    {
      "cell_type": "code",
      "source": [
        "# Splitting it--------------------------------------------------------------------------------->\n",
        "split_ratio = 0.2\n",
        "split_index = int(len(data) * (1 - split_ratio))\n",
        "\n",
        "X_train = data[:split_index, :-1]\n",
        "y_train = data[:split_index, -1].astype(int)\n",
        "X_test = data[split_index:, :-1]\n",
        "y_test = data[split_index:, -1].astype(int)\n"
      ],
      "metadata": {
        "id": "PlY5kLtZNj-E"
      },
      "execution_count": 46,
      "outputs": []
    },
    {
      "cell_type": "code",
      "source": [
        "# K-Fold------------------------------------------------------------------------------------------>\n",
        "num_folds = 5\n",
        "fold_size = len(X_train) // num_folds\n",
        "\n",
        "# Storing results--------------------------------------------------------------------------------->\n",
        "validation_results = []\n",
        "\n",
        "# Check for all K values -------------------------------------------------------------------------->\n",
        "for k in range(1, 16):\n",
        "    validation_accuracies = []\n",
        "\n",
        "    for i in range(num_folds):\n",
        "        val_start = i * fold_size\n",
        "        val_end = val_start + fold_size\n",
        "\n",
        "        X_val_fold = X_train[val_start:val_end]\n",
        "        y_val_fold = y_train[val_start:val_end]\n",
        "\n",
        "        X_train_fold = np.concatenate((X_train[:val_start], X_train[val_end:]), axis=0)\n",
        "        y_train_fold = np.concatenate((y_train[:val_start], y_train[val_end:]), axis=0)\n",
        "\n",
        "        correct_predictions = 0\n",
        "\n",
        "        for j, test_point in enumerate(X_val_fold):\n",
        "            distances = []\n",
        "\n",
        "            for train_point, train_label in zip(X_train_fold, y_train_fold):\n",
        "                distance = np.sqrt(np.sum((test_point - train_point) ** 2))\n",
        "                distances.append((distance, train_label))\n",
        "\n",
        "            distances.sort()\n",
        "            neighbors = [label for (_, label) in distances[:k]]\n",
        "            predicted_label = max(set(neighbors), key=neighbors.count)\n",
        "\n",
        "            if predicted_label == y_val_fold[j]:\n",
        "                correct_predictions += 1\n",
        "\n",
        "        accuracy = correct_predictions / len(X_val_fold)\n",
        "        validation_accuracies.append(accuracy)\n",
        "\n",
        "    mean_accuracy = np.mean(validation_accuracies)\n",
        "    std_deviation = np.std(validation_accuracies)\n",
        "    validation_results.append((k, mean_accuracy, std_deviation))\n",
        "\n",
        "    print(f\"K = {k}, Mean Validation Accuracy = {mean_accuracy:.4f}, Std Deviation = {std_deviation:.4f}\")\n"
      ],
      "metadata": {
        "colab": {
          "base_uri": "https://localhost:8080/"
        },
        "id": "Hq1sdfidNzf9",
        "outputId": "c4a39917-d094-4ac1-e19a-c065bced6576"
      },
      "execution_count": 47,
      "outputs": [
        {
          "output_type": "stream",
          "name": "stdout",
          "text": [
            "K = 1, Mean Validation Accuracy = 0.9583, Std Deviation = 0.0373\n",
            "K = 2, Mean Validation Accuracy = 0.9583, Std Deviation = 0.0373\n",
            "K = 3, Mean Validation Accuracy = 0.9750, Std Deviation = 0.0333\n",
            "K = 4, Mean Validation Accuracy = 0.9750, Std Deviation = 0.0333\n",
            "K = 5, Mean Validation Accuracy = 0.9667, Std Deviation = 0.0408\n",
            "K = 6, Mean Validation Accuracy = 0.9833, Std Deviation = 0.0204\n",
            "K = 7, Mean Validation Accuracy = 0.9750, Std Deviation = 0.0333\n",
            "K = 8, Mean Validation Accuracy = 0.9833, Std Deviation = 0.0204\n",
            "K = 9, Mean Validation Accuracy = 0.9750, Std Deviation = 0.0333\n",
            "K = 10, Mean Validation Accuracy = 0.9750, Std Deviation = 0.0333\n",
            "K = 11, Mean Validation Accuracy = 0.9750, Std Deviation = 0.0333\n",
            "K = 12, Mean Validation Accuracy = 0.9750, Std Deviation = 0.0333\n",
            "K = 13, Mean Validation Accuracy = 0.9750, Std Deviation = 0.0333\n",
            "K = 14, Mean Validation Accuracy = 0.9833, Std Deviation = 0.0204\n",
            "K = 15, Mean Validation Accuracy = 0.9833, Std Deviation = 0.0204\n"
          ]
        }
      ]
    },
    {
      "cell_type": "code",
      "source": [
        "# Findind best K value----------------------------------------------------------------------------->\n",
        "best_k, best_mean_accuracy, best_std_deviation = max(validation_results, key=lambda x: x[1])\n",
        "\n",
        "print(f\"Best K value is : {best_k}\")\n",
        "print(f\"Validation Accuracy for Best K value is ---------------> {best_mean_accuracy:.4f}\")\n",
        "print(f\"Standard Deviation for Best K value is ----------------> {best_std_deviation:.4f}\")\n",
        "\n",
        "best_knn_predictions = []\n",
        "\n",
        "for test_point in X_test:\n",
        "    distances = []\n",
        "\n",
        "    for train_point, train_label in zip(X_train, y_train):\n",
        "        distance = np.sqrt(np.sum((test_point - train_point) ** 2))\n",
        "        distances.append((distance, train_label))\n",
        "\n",
        "    distances.sort()\n",
        "    neighbors = [label for (_, label) in distances[:best_k]]\n",
        "    predicted_label = max(set(neighbors), key=neighbors.count)\n",
        "    best_knn_predictions.append(predicted_label)\n",
        "\n",
        "# Calculating accuracy for best k----------------------------------------------------------------------->\n",
        "test_correct_predictions = np.sum(best_knn_predictions == y_test)\n",
        "test_accuracy = test_correct_predictions / len(y_test)\n",
        "\n",
        "print(f\"Test Accuracy for Best K value is -----------> ({best_k}): {test_accuracy:.4f}\")"
      ],
      "metadata": {
        "colab": {
          "base_uri": "https://localhost:8080/"
        },
        "id": "nwS2PALZN-dT",
        "outputId": "60179333-701b-48a0-9d19-260b60ea175f"
      },
      "execution_count": 48,
      "outputs": [
        {
          "output_type": "stream",
          "name": "stdout",
          "text": [
            "Best K value is : 6\n",
            "Validation Accuracy for Best K value is ---------------> 0.9833\n",
            "Standard Deviation for Best K value is ----------------> 0.0204\n",
            "Test Accuracy for Best K value is -----------> (6): 0.9333\n"
          ]
        }
      ]
    }
  ]
}