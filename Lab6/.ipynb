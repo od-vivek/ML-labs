{
  "nbformat": 4,
  "nbformat_minor": 0,
  "metadata": {
    "colab": {
      "provenance": []
    },
    "kernelspec": {
      "name": "python3",
      "display_name": "Python 3"
    },
    "language_info": {
      "name": "python"
    }
  },
  "cells": [
    {
      "cell_type": "code",
      "execution_count": 22,
      "metadata": {
        "colab": {
          "base_uri": "https://localhost:8080/"
        },
        "id": "SQXVIZNyFvQn",
        "outputId": "21de0cb8-b82d-4469-f952-d109f934ae36"
      },
      "outputs": [
        {
          "output_type": "stream",
          "name": "stdout",
          "text": [
            "Accuracy with Discretized Data: 0.9333333333333333\n",
            "Accuracy without Discretization: 0.8\n"
          ]
        }
      ],
      "source": [
        "from sklearn.datasets import load_iris\n",
        "import random\n",
        "\n",
        "iris = load_iris()\n",
        "X = iris.data\n",
        "y = iris.target\n",
        "\n",
        "dataset = list(zip(X, y))\n",
        "\n",
        "random.shuffle(dataset)\n",
        "\n",
        "train_set = dataset[:120]\n",
        "test_set = dataset[120:]\n",
        "\n",
        "def discretize_data(dataset):\n",
        "    discretized_dataset = [(list(map(int, data)), label) for data, label in dataset]\n",
        "    return discretized_dataset\n",
        "\n",
        "discretized_train_set = discretize_data(train_set)\n",
        "discretized_test_set = discretize_data(test_set)\n",
        "\n",
        "class MyNaiveBayesClassifier:\n",
        "    def __init__(self):\n",
        "        self.class_probs = {}\n",
        "        self.feature_probs = {}\n",
        "\n",
        "    def fit(self, train_set):\n",
        "        class_counts = {}\n",
        "        total_count = len(train_set)\n",
        "        for _, label in train_set:\n",
        "            if label not in class_counts:\n",
        "                class_counts[label] = 0\n",
        "            class_counts[label] += 1\n",
        "        self.class_probs = {label: count / total_count for label, count in class_counts.items()}\n",
        "\n",
        "        self.feature_probs = {}\n",
        "        for label in class_counts:\n",
        "            label_data = [data for data, data_label in train_set if data_label == label]\n",
        "            self.feature_probs[label] = []\n",
        "            for feature in range(len(label_data[0])):\n",
        "                feature_values = [data[feature] for data in label_data]\n",
        "                feature_prob = {}\n",
        "                for value in set(feature_values):\n",
        "                    count = feature_values.count(value)\n",
        "                    feature_prob[value] = count / len(label_data)\n",
        "                self.feature_probs[label].append(feature_prob)\n",
        "\n",
        "    def predict(self, test_data):\n",
        "        predictions = []\n",
        "        for data_point, _ in test_data:\n",
        "            probabilities = {}\n",
        "            for label in self.class_probs:\n",
        "                class_prob = self.class_probs[label]\n",
        "                feature_prob = 1.0\n",
        "                for feature, value in enumerate(data_point):\n",
        "                    feature_prob *= self.feature_probs[label][feature].get(value, 0)\n",
        "                probabilities[label] = class_prob * feature_prob\n",
        "            predicted_label = max(probabilities, key=probabilities.get)\n",
        "            predictions.append(predicted_label)\n",
        "        return predictions\n",
        "\n",
        "def evaluate(predictions, test_set):\n",
        "    correct = 0\n",
        "    for i in range(len(predictions)):\n",
        "        if predictions[i] == test_set[i][1]:\n",
        "            correct += 1\n",
        "    accuracy = correct / float(len(test_set))\n",
        "    return accuracy\n",
        "\n",
        "naive_bayes_discretized = MyNaiveBayesClassifier()\n",
        "naive_bayes_discretized.fit(discretized_train_set)\n",
        "\n",
        "predictions_discretized = naive_bayes_discretized.predict(discretized_test_set)\n",
        "\n",
        "accuracy_discretized = evaluate(predictions_discretized, discretized_test_set)\n",
        "print(\"Accuracy with Discretized Data:\", accuracy_discretized)\n",
        "\n",
        "naive_bayes_non_discretized = MyNaiveBayesClassifier()\n",
        "naive_bayes_non_discretized.fit(train_set)\n",
        "\n",
        "predictions_non_discretized = naive_bayes_non_discretized.predict(test_set)\n",
        "\n",
        "accuracy_non_discretized = evaluate(predictions_non_discretized, test_set)\n",
        "print(\"Accuracy without Discretization:\", accuracy_non_discretized)\n",
        "\n"
      ]
    },
    {
      "cell_type": "code",
      "source": [
        "print(\"We conduct five iterations of our experiment, recording the accuracy in both discretized and non-discretized scenarios each time.\")\n",
        "print(\"On an average, we observed a significant improvement in accuracy of approximately 15% when we applied data discretization, with a slight variance of around 5% in either direction.\")\n",
        "print(\"Discretization, which involves converting continuous numerical data into categories, appears to enhance the performance of the Naive Bayes Classifier.\")\n",
        "print(\"This enhancement can be attributed to several factors, including simplifying the data, reducing sensitivity to outliers, aligning with the classifier's expectations, and improving interpretability.\")\n",
        "print(\"Taken together, these factors contribute to the classifier's enhanced accuracy compared to using the original continuous data.\")"
      ],
      "metadata": {
        "colab": {
          "base_uri": "https://localhost:8080/"
        },
        "id": "3nKmZuMwgq6i",
        "outputId": "d0373951-f454-42d7-e248-4af402446349"
      },
      "execution_count": 24,
      "outputs": [
        {
          "output_type": "stream",
          "name": "stdout",
          "text": [
            "We conduct five iterations of our experiment, recording the accuracy in both discretized and non-discretized scenarios each time.\n",
            "On an average, we observed a significant improvement in accuracy of approximately 15% when we applied data discretization, with a slight variance of around 5% in either direction.\n",
            "Discretization, which involves converting continuous numerical data into categories, appears to enhance the performance of the Naive Bayes Classifier.\n",
            "This enhancement can be attributed to several factors, including simplifying the data, reducing sensitivity to outliers, aligning with the classifier's expectations, and improving interpretability.\n",
            "Taken together, these factors contribute to the classifier's enhanced accuracy compared to using the original continuous data.\n"
          ]
        }
      ]
    }
  ]
}