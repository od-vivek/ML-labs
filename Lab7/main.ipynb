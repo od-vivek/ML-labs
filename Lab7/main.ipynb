{
  "nbformat": 4,
  "nbformat_minor": 0,
  "metadata": {
    "colab": {
      "provenance": []
    },
    "kernelspec": {
      "name": "python3",
      "display_name": "Python 3"
    },
    "language_info": {
      "name": "python"
    }
  },
  "cells": [
    {
      "cell_type": "code",
      "execution_count": 7,
      "metadata": {
        "colab": {
          "base_uri": "https://localhost:8080/"
        },
        "id": "WxCxjlOkooA1",
        "outputId": "e86972de-5d45-467e-a031-ee8c5908e9b2"
      },
      "outputs": [
        {
          "output_type": "stream",
          "name": "stdout",
          "text": [
            "Coefficients for the  optimised model are :\n",
            " [ 0.72433076  0.02395506  0.02020956  0.00750254 -0.00162662  0.02057688\n",
            "  0.06191103  0.01187439]\n",
            "SSE ----->  0.18389109419579386\n",
            "Train Set SSE -----> 1.6011492669088456\n",
            "MSE ------> 0.0018389109419579385\n",
            "Train Set MSE ------> 0.004002873167272114\n",
            "R2 Score ------> 0.8985221850982109\n",
            "Train Set R2 Score -----> 0.8026836627680487\n"
          ]
        }
      ],
      "source": [
        "import numpy as np\n",
        "\n",
        "# data and splitting\n",
        "data = np.genfromtxt('./Admission_Predict_Ver1.1.csv.csv', delimiter=',', skip_header=1)\n",
        "split_ratio = 0.8\n",
        "split_index = int(split_ratio * len(data))\n",
        "train_data = data[:split_index]\n",
        "test_data = data[split_index:]\n",
        "\n",
        "\n",
        "X_train = train_data[:, 1:-1]\n",
        "y_train = train_data[:, -1]\n",
        "\n",
        "X_test = test_data[:, 1:-1]\n",
        "y_test = test_data[:, -1]\n",
        "\n",
        "#normalization\n",
        "mean = np.mean(X_train, axis=0)\n",
        "std = np.std(X_train, axis=0)\n",
        "X_train = (X_train - mean) / std\n",
        "X_test = (X_test - mean) / std\n",
        "\n",
        "\n",
        "X_train = np.column_stack((np.ones(X_train.shape[0]), X_train))\n",
        "X_test = np.column_stack((np.ones(X_test.shape[0]), X_test))\n",
        "\n",
        "#hyperparameters\n",
        "\n",
        "learning_rate = 0.1\n",
        "num_iterations = 100\n",
        "\n",
        "num_features = X_train.shape[1]\n",
        "weights = np.zeros(num_features)\n",
        "\n",
        "def calculate_mse(X, y, weights):\n",
        "    predictions = np.dot(X, weights)\n",
        "    squared_errors = (predictions - y) ** 2\n",
        "    mse = np.mean(squared_errors)\n",
        "    return mse\n",
        "\n",
        "def calculate_gradient(X, y, weights):\n",
        "    predictions = np.dot(X, weights)\n",
        "    gradient = np.dot(X.T, (predictions - y)) / len(y)\n",
        "    return gradient\n",
        "\n",
        "for i in range(num_iterations):\n",
        "    gradient = calculate_gradient(X_train, y_train, weights)\n",
        "    weights -= learning_rate * gradient\n",
        "\n",
        "# prediction test-data\n",
        "y_pred = np.dot(X_test, weights)\n",
        "\n",
        "# SSE, MSE, and R2 on test data\n",
        "sse = calculate_mse(X_test, y_test, weights) * len(y_test)\n",
        "mse = calculate_mse(X_test, y_test, weights)\n",
        "y_mean = np.mean(y_test)\n",
        "sst = np.sum((y_test - y_mean) ** 2)\n",
        "r2 = 1 - (sse / sst)\n",
        "\n",
        "y_train_pred = np.dot(X_train, weights)\n",
        "\n",
        "# SSE, MSE, and R2 scores for the train\n",
        "sse_train = calculate_mse(X_train, y_train, weights) * len(y_train)\n",
        "mse_train = calculate_mse(X_train, y_train, weights)\n",
        "y_train_mean = np.mean(y_train)\n",
        "sst_train = np.sum((y_train - y_train_mean) ** 2)\n",
        "r2_train = 1 - (sse_train / sst_train)\n",
        "\n",
        "\n",
        "# Answers\n",
        "print(\"Coefficients for the  optimised model are :\\n\", weights)\n",
        "print(\"SSE -----> \", sse)\n",
        "print(\"Train Set SSE ----->\", sse_train)\n",
        "print(\"MSE ------>\", mse)\n",
        "print(\"Train Set MSE ------>\", mse_train)\n",
        "print(\"R2 Score ------>\", r2)\n",
        "print(\"Train Set R2 Score ----->\",r2_train)"
      ]
    }
  ]
}