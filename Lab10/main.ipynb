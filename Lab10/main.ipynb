{
  "cells": [
    {
      "cell_type": "code",
      "execution_count": 22,
      "metadata": {
        "colab": {
          "base_uri": "https://localhost:8080/"
        },
        "id": "BWVYBRvp2YI1",
        "outputId": "9e6c920f-bba4-4493-84da-076f81d6276c"
      },
      "outputs": [
        {
          "name": "stdout",
          "output_type": "stream",
          "text": [
            "The best value of C can be: 1\n",
            "with C=1, Accuracy on the test set = 0.9814814814814815\n",
            "Scores of the cross-validation are: [1.         0.95121951 0.95121951]\n"
          ]
        }
      ],
      "source": [
        "# Importing the required libraries\n",
        "import numpy as np\n",
        "import pandas as pd\n",
        "from sklearn import svm\n",
        "from sklearn.model_selection import cross_val_score, GridSearchCV\n",
        "from sklearn.preprocessing import StandardScaler\n",
        "from sklearn.model_selection import train_test_split\n",
        "from sklearn.datasets import load_wine\n",
        "\n",
        "wine_data = load_wine()\n",
        "initial_X = wine_data.data\n",
        "initial_y = wine_data.target\n",
        "\n",
        "data_X_train, data_X_test, data_y_train, data_y_test = train_test_split(initial_X, initial_y, test_size=0.3, random_state=50)\n",
        "\n",
        "data_scaler = StandardScaler()\n",
        "data_X_train = data_scaler.fit_transform(data_X_train)\n",
        "data_X_test = data_scaler.transform(data_X_test)\n",
        "\n",
        "SVM_Classifier = svm.SVC(kernel='rbf')\n",
        "\n",
        "SVM_Params = {'C': [0.1, 1, 10, 100]}\n",
        "\n",
        "search_Grid = GridSearchCV(SVM_Classifier, SVM_Params, cv=3)\n",
        "search_Grid.fit(data_X_train, data_y_train)\n",
        "\n",
        "\n",
        "calc_best_C = search_Grid.best_params_['C']\n",
        "print(f\"The best value of C is -----------------------> {calc_best_C}\")\n",
        "\n",
        "final_SVM_Classifier = svm.SVC(kernel='rbf', C=calc_best_C)\n",
        "final_SVM_Classifier.fit(data_X_train, data_y_train)\n",
        "\n",
        "accuracy = final_SVM_Classifier.score(data_X_test, data_y_test)\n",
        "print(f\"with C={calc_best_C}, Accuracy on the test set is -------------> {accuracy}\")\n",
        "\n",
        "calc_cross_val_scores = cross_val_score(final_SVM_Classifier, data_X_train, data_y_train, cv=3)\n",
        "print(\"Scores of the cross-validation are ------------------------->\", calc_cross_val_scores)\n"
      ]
    }
  ],
  "metadata": {
    "colab": {
      "provenance": []
    },
    "kernelspec": {
      "display_name": "Python 3",
      "name": "python3"
    },
    "language_info": {
      "name": "python"
    }
  },
  "nbformat": 4,
  "nbformat_minor": 0
}
